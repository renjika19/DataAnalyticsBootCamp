{
 "cells": [
  {
   "cell_type": "code",
   "execution_count": null,
   "metadata": {
    "collapsed": true
   },
   "outputs": [],
   "source": [
    "import pandas as pd\n",
    "import numpy as np"
   ]
  },
  {
   "cell_type": "markdown",
   "metadata": {},
   "source": [
    "# Duplicate Data"
   ]
  },
  {
   "cell_type": "code",
   "execution_count": null,
   "metadata": {},
   "outputs": [],
   "source": [
    "#create duplicate data\n",
    "names = ['Jessica','John','Bob','Jessica','Mary','John','Mel','Mel']\n",
    "grades = [95,78,76,95,77,78,99,100]\n",
    "GradeList = list(zip(names,grades))\n",
    "df = pd.DataFrame(data = GradeList, columns=['Names', 'Grades'])\n",
    "df"
   ]
  },
  {
   "cell_type": "code",
   "execution_count": null,
   "metadata": {},
   "outputs": [],
   "source": [
    "dupe = df.duplicated() #creates list of True/False values\n",
    "df[dupe] #shows rows where duplicated is True"
   ]
  },
  {
   "cell_type": "code",
   "execution_count": null,
   "metadata": {},
   "outputs": [],
   "source": [
    "#drops duplicate rows, default is to keep first observation\n",
    "df.drop_duplicates()"
   ]
  },
  {
   "cell_type": "code",
   "execution_count": null,
   "metadata": {
    "scrolled": true
   },
   "outputs": [],
   "source": [
    "#re-run 'create duplicate data'\n",
    "\n",
    "#example: keep last observation\n",
    "df.drop_duplicates(['Names'], keep='last')"
   ]
  },
  {
   "cell_type": "markdown",
   "metadata": {},
   "source": [
    "# Select Rows"
   ]
  },
  {
   "cell_type": "code",
   "execution_count": null,
   "metadata": {},
   "outputs": [],
   "source": [
    "#filtering rows based on a conditional\n",
    "\n",
    "names = ['Bob','Jessica','Mary','John','Mel']\n",
    "grades = [76,-2,77,78,101]\n",
    "\n",
    "GradeList = list(zip(names,grades))\n",
    "\n",
    "df = pd.DataFrame(data = GradeList, columns=['Names', 'Grades'])\n",
    "df"
   ]
  },
  {
   "cell_type": "code",
   "execution_count": null,
   "metadata": {},
   "outputs": [],
   "source": [
    "df.loc[df['Grades'] == 101] #find rows equal to 101"
   ]
  },
  {
   "cell_type": "code",
   "execution_count": null,
   "metadata": {
    "scrolled": true
   },
   "outputs": [],
   "source": [
    "df.loc[df['Grades'] <= 100] #finds rows where the grade is less than or equal to 100"
   ]
  },
  {
   "cell_type": "code",
   "execution_count": null,
   "metadata": {},
   "outputs": [],
   "source": [
    "#multiple conditions\n",
    "df.loc[(df['Grades'] >= 60) & (df['Grades'] < 100)] #between 60 and 100"
   ]
  },
  {
   "cell_type": "code",
   "execution_count": null,
   "metadata": {},
   "outputs": [],
   "source": [
    "#replacing values with new value\n",
    "df.loc[df['Grades'] <= 77, 'Grades'] = 100\n",
    "df"
   ]
  },
  {
   "cell_type": "markdown",
   "metadata": {},
   "source": [
    "# Missing Data"
   ]
  },
  {
   "cell_type": "code",
   "execution_count": null,
   "metadata": {},
   "outputs": [],
   "source": [
    "df = pd.read_csv(\"datasets/gradedatamissing.csv\")\n",
    "df.head()"
   ]
  },
  {
   "cell_type": "code",
   "execution_count": null,
   "metadata": {},
   "outputs": [],
   "source": [
    "#Selecting rows with no missing age or gender\n",
    "df[df['age'].notnull() & df['gender'].notnull()]"
   ]
  },
  {
   "cell_type": "code",
   "execution_count": null,
   "metadata": {},
   "outputs": [],
   "source": [
    "#drop rows with any missing data\n",
    "df_no_missing = df.dropna()\n",
    "df_no_missing"
   ]
  },
  {
   "cell_type": "code",
   "execution_count": null,
   "metadata": {},
   "outputs": [],
   "source": [
    "#replace empty cells with 0\n",
    "df.fillna(0)"
   ]
  },
  {
   "cell_type": "code",
   "execution_count": null,
   "metadata": {
    "collapsed": true
   },
   "outputs": [],
   "source": [
    "#replace empty cells with average of column\n",
    "df[\"grade\"].fillna(df[\"grade\"].mean(), inplace=True)"
   ]
  },
  {
   "cell_type": "markdown",
   "metadata": {},
   "source": [
    "# Binning Data"
   ]
  },
  {
   "cell_type": "code",
   "execution_count": null,
   "metadata": {},
   "outputs": [],
   "source": [
    "filename = \"datasets/gradedata.csv\"\n",
    "df = pd.read_csv(filename)\n",
    "\n",
    "df.head()"
   ]
  },
  {
   "cell_type": "code",
   "execution_count": null,
   "metadata": {},
   "outputs": [],
   "source": [
    "df['grade'].dtypes"
   ]
  },
  {
   "cell_type": "code",
   "execution_count": null,
   "metadata": {},
   "outputs": [],
   "source": [
    "#Define bins as 0-60, 60-70, 70-80, 80-90, 90-100\n",
    "bins = [0, 60, 70, 80, 90, 100]\n",
    "\n",
    "# Create names for the four groups\n",
    "group_names = ['F', 'D', 'C', 'B', 'A']\n",
    "\n",
    "#make new column with letter grades\n",
    "df['lettergrade'] = pd.cut(df['grade'], bins, labels=group_names)\n",
    "df.head()"
   ]
  },
  {
   "cell_type": "code",
   "execution_count": null,
   "metadata": {},
   "outputs": [],
   "source": [
    "pd.value_counts(df['lettergrade']) # number of observations per letter grade"
   ]
  },
  {
   "cell_type": "code",
   "execution_count": null,
   "metadata": {
    "scrolled": true
   },
   "outputs": [],
   "source": [
    "df.groupby('lettergrade')['hours'].mean() #mean of hours studied per letter grade"
   ]
  },
  {
   "cell_type": "code",
   "execution_count": null,
   "metadata": {
    "scrolled": true
   },
   "outputs": [],
   "source": [
    "#apply functions to data\n",
    "df['grade'] = df['grade'].apply(lambda x: int(x)) #turns float type grades to int type\n",
    "df.head()"
   ]
  },
  {
   "cell_type": "markdown",
   "metadata": {},
   "source": [
    "# Add and Remove Columns"
   ]
  },
  {
   "cell_type": "code",
   "execution_count": null,
   "metadata": {
    "collapsed": true
   },
   "outputs": [],
   "source": [
    "names = ['Bob','Jessica','Mary','John','Mel']\n",
    "grades = [76,95,77,78,99]\n",
    "bsdegress = [1,1,0,0,1]\n",
    "msdegrees = [2,1,0,0,0]\n",
    "phddegrees = [0,1,0,0,0]\n",
    "\n",
    "GradeList = list(zip(names,grades,bsdegress,msdegrees,phddegrees))\n",
    "\n",
    "df = pd.DataFrame(data = GradeList, columns=['Names','Grades','BS','MS','PhD'])\n",
    "df"
   ]
  },
  {
   "cell_type": "code",
   "execution_count": null,
   "metadata": {
    "collapsed": true
   },
   "outputs": [],
   "source": [
    "#make a new column with each value = 0\n",
    "df['HighSchool']=0\n",
    "\n",
    "#make new column with all NaN values\n",
    "df['PreSchool'] = np.nan\n",
    "\n",
    "#manually add data for new column\n",
    "d = ([0,1,0,1,0])\n",
    "s = pd.Series(d, index= df.index)\n",
    "df['DriversLicense'] = s\n",
    "\n",
    "df"
   ]
  },
  {
   "cell_type": "code",
   "execution_count": null,
   "metadata": {
    "collapsed": true,
    "scrolled": true
   },
   "outputs": [],
   "source": [
    "#drop a column\n",
    "df.drop('PhD', axis=1)"
   ]
  },
  {
   "cell_type": "code",
   "execution_count": null,
   "metadata": {
    "collapsed": true
   },
   "outputs": [],
   "source": [
    "#drop completely empty columns (all NaN/null values)\n",
    "df.dropna(axis=1, how='all')"
   ]
  },
  {
   "cell_type": "markdown",
   "metadata": {},
   "source": [
    "#### Make new columns"
   ]
  },
  {
   "cell_type": "code",
   "execution_count": null,
   "metadata": {
    "collapsed": true
   },
   "outputs": [],
   "source": [
    "#using functions\n",
    "filename = \"datasets/gradedata.csv\"\n",
    "df = pd.read_csv(filename)\n",
    "\n",
    "def singlename(fn, ln):\n",
    "    return fn + \" \" + ln\n",
    "\n",
    "df['fullname'] = singlename(df['fname'], df['lname'])\n",
    "df.head()"
   ]
  },
  {
   "cell_type": "code",
   "execution_count": null,
   "metadata": {
    "collapsed": true,
    "scrolled": true
   },
   "outputs": [],
   "source": [
    "#create column based on conditional\n",
    "df['isFailing'] = np.where(df['grade']<70, 'yes', 'no')\n",
    "df.tail()"
   ]
  },
  {
   "cell_type": "code",
   "execution_count": null,
   "metadata": {
    "collapsed": true,
    "scrolled": true
   },
   "outputs": [],
   "source": [
    "#make numeric value column based on string value column\n",
    "\n",
    "#create a function that will return 1 if female and 0 if male\n",
    "def score_to_numeric(x):\n",
    "    if x=='female':\n",
    "        return 1\n",
    "    if x=='male':\n",
    "        return 0\n",
    "    \n",
    "df['gender_val'] = df['gender'].apply(score_to_numeric)\n",
    "df.tail()"
   ]
  },
  {
   "cell_type": "markdown",
   "metadata": {},
   "source": [
    "# Sort Values"
   ]
  },
  {
   "cell_type": "code",
   "execution_count": null,
   "metadata": {
    "collapsed": true,
    "scrolled": false
   },
   "outputs": [],
   "source": [
    "#still using gradedata.csv\n",
    "#df.head() if needed\n",
    "\n",
    "df.sort_values('hours') #default is ascending=True\n",
    "#does not change structure of df"
   ]
  },
  {
   "cell_type": "markdown",
   "metadata": {},
   "source": [
    "# Calculate and Remove Outliers"
   ]
  },
  {
   "cell_type": "code",
   "execution_count": null,
   "metadata": {
    "collapsed": true
   },
   "outputs": [],
   "source": [
    "#still using gradedata.csv\n",
    "#check df.head() if needed\n",
    "\n",
    "#Standard Deviation Method\n",
    "\n",
    "meangrade = df['grade'].mean()\n",
    "stdgrade = df['grade'].std()\n",
    "toprange = meangrade + stdgrade * 1.96\n",
    "botrange = meangrade - stdgrade * 1.96\n",
    "\n",
    "copydf = df #because we don't want to mess up the original df\n",
    "copydf = copydf.drop(copydf[copydf['grade'] > toprange].index)\n",
    "copydf = copydf.drop(copydf[copydf['grade'] < botrange].index)\n",
    "\n",
    "copydf.head()"
   ]
  },
  {
   "cell_type": "code",
   "execution_count": null,
   "metadata": {
    "collapsed": true,
    "scrolled": true
   },
   "outputs": [],
   "source": [
    "#Interquartile Range Method\n",
    "\n",
    "q1 = df['grade'].quantile(.25)\n",
    "q3 = df['grade'].quantile(.75)\n",
    "iqr = q3-q1\n",
    "toprange = q3 + iqr * 1.5\n",
    "botrange = q1 - iqr * 1.5\n",
    "\n",
    "copydf = df\n",
    "copydf = copydf.drop(copydf[copydf['grade'] > toprange].index)\n",
    "copydf = copydf.drop(copydf[copydf['grade'] < botrange].index)\n",
    "\n",
    "copydf.head()"
   ]
  }
 ],
 "metadata": {
  "kernelspec": {
   "display_name": "Python 3",
   "language": "python",
   "name": "python3"
  },
  "language_info": {
   "codemirror_mode": {
    "name": "ipython",
    "version": 3
   },
   "file_extension": ".py",
   "mimetype": "text/x-python",
   "name": "python",
   "nbconvert_exporter": "python",
   "pygments_lexer": "ipython3",
   "version": "3.6.2"
  }
 },
 "nbformat": 4,
 "nbformat_minor": 2
}
